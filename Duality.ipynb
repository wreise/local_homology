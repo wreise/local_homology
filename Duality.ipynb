{
 "cells": [
  {
   "cell_type": "code",
   "execution_count": 1,
   "id": "28c886a4",
   "metadata": {},
   "outputs": [],
   "source": [
    "import numpy as np\n",
    "\n",
    "import matplotlib.pyplot as plt\n",
    "\n",
    "from gudhi import plot_persistence_diagram, SimplexTree\n",
    "from gudhi.datasets.generators import points\n",
    "\n",
    "from local_homology.duality import convert_diagram_to_relative\n",
    "from local_homology.coning import is_point_in_ball"
   ]
  },
  {
   "cell_type": "markdown",
   "id": "af06db13",
   "metadata": {},
   "source": [
    "## Normal relative homology"
   ]
  },
  {
   "cell_type": "code",
   "execution_count": 2,
   "id": "53c7bfb5",
   "metadata": {},
   "outputs": [],
   "source": [
    "st = SimplexTree()\n",
    "# K minus L\n",
    "K_simplices = [\n",
    "    (0,),\n",
    "    (0, 1), (0, 2), (0, 4), (0, 3), (0, 5),\n",
    "    (0, 3, 5), (0, 3, 4), (0, 4, 5)\n",
    "]\n",
    "\n",
    "# L simplices\n",
    "L_simplices = [\n",
    "    (1,), (2,), (3,), (4,),\n",
    "    (1, 2), (3, 4), (4, 5), (5, 3),\n",
    "]\n",
    "\n",
    "for simplices, value in zip([L_simplices, K_simplices], [0,1]):\n",
    "    for simplex in simplices:\n",
    "        st.insert(simplex=simplex, filtration=value)"
   ]
  },
  {
   "cell_type": "code",
   "execution_count": 3,
   "id": "3e4a9747",
   "metadata": {},
   "outputs": [
    {
     "name": "stdout",
     "output_type": "stream",
     "text": [
      "[(1, (1.0, inf)), (1, (0.0, 1.0)), (0, (0.0, inf)), (0, (0.0, 1.0))]\n"
     ]
    }
   ],
   "source": [
    "persistence = st.persistence()\n",
    "relative_betti = convert_diagram_to_relative(persistence, 2)\n",
    "print(relative_betti)"
   ]
  },
  {
   "cell_type": "code",
   "execution_count": null,
   "id": "3c9b1549",
   "metadata": {},
   "outputs": [],
   "source": []
  }
 ],
 "metadata": {
  "kernelspec": {
   "display_name": "Python 3 (ipykernel)",
   "language": "python",
   "name": "python3"
  },
  "language_info": {
   "codemirror_mode": {
    "name": "ipython",
    "version": 3
   },
   "file_extension": ".py",
   "mimetype": "text/x-python",
   "name": "python",
   "nbconvert_exporter": "python",
   "pygments_lexer": "ipython3",
   "version": "3.9.7"
  }
 },
 "nbformat": 4,
 "nbformat_minor": 5
}
